{
 "cells": [
  {
   "cell_type": "code",
   "execution_count": 1,
   "id": "3855f7c2-596a-466f-aa55-42b314ebfa1e",
   "metadata": {},
   "outputs": [],
   "source": [
    "import json\n",
    "sample_path = \"./input_file.json\"\n",
    "with open(sample_path) as file:\n",
    "    samples = json.loads(file.read())"
   ]
  },
  {
   "cell_type": "code",
   "execution_count": 2,
   "id": "d2a2f24b-b167-466e-a0ea-aecca784592c",
   "metadata": {},
   "outputs": [],
   "source": [
    "# samples[\"files\"].keys()\n",
    "samples\n",
    "new_samples = {}\n",
    "for dataset, sample_dict in samples.items():\n",
    "    new_samples[dataset] = {\n",
    "        \"files\" : list(sample_dict[\"files\"].keys()),\n",
    "        'treename': 'Events'\n",
    "    }"
   ]
  },
  {
   "cell_type": "code",
   "execution_count": 3,
   "id": "be98f96e-b458-444b-926b-710fa321591b",
   "metadata": {},
   "outputs": [
    {
     "data": {
      "text/plain": [
       "{'dy_M-100To200': {'files': ['root://eos.cms.rcac.purdue.edu:1094///store/mc/RunIISummer20UL18NanoAODv9/DYJetsToLL_M-100to200_TuneCP5_13TeV-amcatnloFXFX-pythia8/NANOAODSIM/106X_upgrade2018_realistic_v16_L1v1-v1/40000/AA6F89B0-EDAA-3942-A3BB-BC3709722EB4.root'],\n",
       "  'treename': 'Events'}}"
      ]
     },
     "execution_count": 3,
     "metadata": {},
     "output_type": "execute_result"
    }
   ],
   "source": [
    "new_samples"
   ]
  },
  {
   "cell_type": "code",
   "execution_count": null,
   "id": "687aed63-bc05-4e93-8631-725b27c5eee2",
   "metadata": {},
   "outputs": [],
   "source": []
  }
 ],
 "metadata": {
  "kernelspec": {
   "display_name": "Python [conda env:coffea2024]",
   "language": "python",
   "name": "conda-env-coffea2024-py"
  },
  "language_info": {
   "codemirror_mode": {
    "name": "ipython",
    "version": 3
   },
   "file_extension": ".py",
   "mimetype": "text/x-python",
   "name": "python",
   "nbconvert_exporter": "python",
   "pygments_lexer": "ipython3",
   "version": "3.10.13"
  }
 },
 "nbformat": 4,
 "nbformat_minor": 5
}
